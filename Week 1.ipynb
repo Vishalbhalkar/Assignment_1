{
 "cells": [
  {
   "cell_type": "markdown",
   "id": "1c320a58",
   "metadata": {},
   "source": [
    "# Week 1 [Assignment 1]"
   ]
  },
  {
   "cell_type": "markdown",
   "id": "4d3ed3d4",
   "metadata": {},
   "source": [
    "Q1. Creating Variable"
   ]
  },
  {
   "cell_type": "code",
   "execution_count": 1,
   "id": "f49921cf",
   "metadata": {},
   "outputs": [],
   "source": [
    "#String \n",
    "a = 'Variable'"
   ]
  },
  {
   "cell_type": "code",
   "execution_count": 3,
   "id": "947a3a3c",
   "metadata": {},
   "outputs": [],
   "source": [
    "#list\n",
    "l = [1,3,'list',3.0,True]"
   ]
  },
  {
   "cell_type": "code",
   "execution_count": 4,
   "id": "a3c4e73c",
   "metadata": {},
   "outputs": [],
   "source": [
    "#Float\n",
    "f = 3.149 "
   ]
  },
  {
   "cell_type": "code",
   "execution_count": 5,
   "id": "a2ca765c",
   "metadata": {},
   "outputs": [],
   "source": [
    "#Tuple\n",
    "T = (1,3,'list',3.0,True)"
   ]
  },
  {
   "cell_type": "markdown",
   "id": "cee320c0",
   "metadata": {},
   "source": [
    "Q.2 \n",
    "\n",
    "1)String\n",
    "2)String\n",
    "3)List\n",
    "4)Float"
   ]
  },
  {
   "cell_type": "markdown",
   "id": "aa5fc7db",
   "metadata": {},
   "source": [
    "Q.3 Use of Operator"
   ]
  },
  {
   "cell_type": "markdown",
   "id": "7c022483",
   "metadata": {},
   "source": [
    "1) / For Division"
   ]
  },
  {
   "cell_type": "code",
   "execution_count": 7,
   "id": "8b06c63b",
   "metadata": {},
   "outputs": [
    {
     "data": {
      "text/plain": [
       "2.0"
      ]
     },
     "execution_count": 7,
     "metadata": {},
     "output_type": "execute_result"
    }
   ],
   "source": [
    "10/5"
   ]
  },
  {
   "cell_type": "markdown",
   "id": "9318a087",
   "metadata": {},
   "source": [
    "2) % For Mod"
   ]
  },
  {
   "cell_type": "code",
   "execution_count": 8,
   "id": "86606bc9",
   "metadata": {},
   "outputs": [
    {
     "data": {
      "text/plain": [
       "0"
      ]
     },
     "execution_count": 8,
     "metadata": {},
     "output_type": "execute_result"
    }
   ],
   "source": [
    "10%5"
   ]
  },
  {
   "cell_type": "markdown",
   "id": "22b1e452",
   "metadata": {},
   "source": [
    "3) // For Floor Division"
   ]
  },
  {
   "cell_type": "code",
   "execution_count": 10,
   "id": "75261457",
   "metadata": {},
   "outputs": [
    {
     "data": {
      "text/plain": [
       "2"
      ]
     },
     "execution_count": 10,
     "metadata": {},
     "output_type": "execute_result"
    }
   ],
   "source": [
    "10//5"
   ]
  },
  {
   "cell_type": "markdown",
   "id": "4261fab8",
   "metadata": {},
   "source": [
    "4) ** For Exponent "
   ]
  },
  {
   "cell_type": "code",
   "execution_count": 12,
   "id": "0c1c6361",
   "metadata": {},
   "outputs": [
    {
     "data": {
      "text/plain": [
       "100000"
      ]
     },
     "execution_count": 12,
     "metadata": {},
     "output_type": "execute_result"
    }
   ],
   "source": [
    "10**5"
   ]
  },
  {
   "cell_type": "markdown",
   "id": "3afa4a6f",
   "metadata": {},
   "source": [
    "Q.4 "
   ]
  },
  {
   "cell_type": "code",
   "execution_count": 24,
   "id": "7e01d6d2",
   "metadata": {},
   "outputs": [
    {
     "name": "stdout",
     "output_type": "stream",
     "text": [
      "10\n",
      "<class 'int'>\n",
      "Ten\n",
      "<class 'str'>\n",
      "10.0\n",
      "<class 'float'>\n",
      "20\n",
      "<class 'int'>\n",
      "Twenty\n",
      "<class 'str'>\n",
      "20.0\n",
      "<class 'float'>\n",
      "30\n",
      "<class 'int'>\n",
      "Thirty\n",
      "<class 'str'>\n",
      "30.0\n",
      "<class 'float'>\n",
      "True\n",
      "<class 'bool'>\n"
     ]
    }
   ],
   "source": [
    "List = [10,'Ten',10.0,20,'Twenty',20.0,30,'Thirty',30.0,True]\n",
    "\n",
    "for i in List :\n",
    "    print(i)\n",
    "    print(type(i))"
   ]
  },
  {
   "cell_type": "markdown",
   "id": "75c531a3",
   "metadata": {},
   "source": [
    "Q.5 To Check Divisibility "
   ]
  },
  {
   "cell_type": "code",
   "execution_count": 3,
   "id": "eea4bc49",
   "metadata": {},
   "outputs": [
    {
     "name": "stdout",
     "output_type": "stream",
     "text": [
      "Enter A = 8\n",
      "Enter B = 2\n",
      "Divisible till 3 Time\n"
     ]
    }
   ],
   "source": [
    "a = int(input(\"Enter A = \" ))\n",
    "b = int(input(\"Enter B = \"))\n",
    "\n",
    "count = 0\n",
    "\n",
    "while (a%b) == 0:\n",
    "    count = count + 1\n",
    "    a=a//b\n",
    "print(f'Divisible till {count} Time')"
   ]
  },
  {
   "cell_type": "markdown",
   "id": "13c0991a",
   "metadata": {},
   "source": [
    "Q.6"
   ]
  },
  {
   "cell_type": "code",
   "execution_count": 10,
   "id": "6cdc4775",
   "metadata": {},
   "outputs": [
    {
     "name": "stdout",
     "output_type": "stream",
     "text": [
      "[0, 1, 2, 3, 4, 5, 6, 7, 8, 9, 10, 11, 12, 13, 14, 15, 16, 17, 18, 19, 20, 21, 22, 23, 24]\n",
      "0 is Divisible by 3\n",
      "3 is Divisible by 3\n",
      "6 is Divisible by 3\n",
      "9 is Divisible by 3\n",
      "12 is Divisible by 3\n",
      "15 is Divisible by 3\n",
      "18 is Divisible by 3\n",
      "21 is Divisible by 3\n",
      "24 is Divisible by 3\n"
     ]
    }
   ],
   "source": [
    "l=list(range(25))\n",
    "print(l)\n",
    "\n",
    "for i in l:\n",
    "    if i%3 == 0:\n",
    "        print(f\"{i} is Divisible by 3\")"
   ]
  },
  {
   "cell_type": "markdown",
   "id": "5524bd32",
   "metadata": {},
   "source": [
    "Q.7"
   ]
  },
  {
   "cell_type": "markdown",
   "id": "75a2a806",
   "metadata": {},
   "source": [
    "Mutable : It means we can change it later "
   ]
  },
  {
   "cell_type": "code",
   "execution_count": 11,
   "id": "cecd1bae",
   "metadata": {},
   "outputs": [
    {
     "name": "stdout",
     "output_type": "stream",
     "text": [
      "[1, 3, 7, 9, 5]\n",
      "[1, 0, 7, 9, 5]\n"
     ]
    }
   ],
   "source": [
    "l1 = [1,3,7,9,5]\n",
    "print(l1)\n",
    "l1[1]=0\n",
    "print(l1)"
   ]
  },
  {
   "cell_type": "markdown",
   "id": "0d5610e9",
   "metadata": {},
   "source": [
    "Immutable : It means can not be changed later , \n",
    "Below String is now immutable "
   ]
  },
  {
   "cell_type": "code",
   "execution_count": 13,
   "id": "5199c195",
   "metadata": {},
   "outputs": [
    {
     "ename": "TypeError",
     "evalue": "'str' object does not support item assignment",
     "output_type": "error",
     "traceback": [
      "\u001b[1;31m---------------------------------------------------------------------------\u001b[0m",
      "\u001b[1;31mTypeError\u001b[0m                                 Traceback (most recent call last)",
      "Input \u001b[1;32mIn [13]\u001b[0m, in \u001b[0;36m<cell line: 2>\u001b[1;34m()\u001b[0m\n\u001b[0;32m      1\u001b[0m \u001b[38;5;28mstr\u001b[39m \u001b[38;5;241m=\u001b[39m \u001b[38;5;124m'\u001b[39m\u001b[38;5;124mImmutable\u001b[39m\u001b[38;5;124m'\u001b[39m\n\u001b[1;32m----> 2\u001b[0m \u001b[38;5;28mstr\u001b[39m[\u001b[38;5;241m1\u001b[39m] \u001b[38;5;241m=\u001b[39m \u001b[38;5;124m'\u001b[39m\u001b[38;5;124mn\u001b[39m\u001b[38;5;124m'\u001b[39m\n",
      "\u001b[1;31mTypeError\u001b[0m: 'str' object does not support item assignment"
     ]
    }
   ],
   "source": [
    "str = 'Immutable'\n",
    "str[1] = 'n'"
   ]
  },
  {
   "cell_type": "code",
   "execution_count": null,
   "id": "9d8fd6b7",
   "metadata": {},
   "outputs": [],
   "source": []
  }
 ],
 "metadata": {
  "kernelspec": {
   "display_name": "Python 3 (ipykernel)",
   "language": "python",
   "name": "python3"
  },
  "language_info": {
   "codemirror_mode": {
    "name": "ipython",
    "version": 3
   },
   "file_extension": ".py",
   "mimetype": "text/x-python",
   "name": "python",
   "nbconvert_exporter": "python",
   "pygments_lexer": "ipython3",
   "version": "3.9.12"
  }
 },
 "nbformat": 4,
 "nbformat_minor": 5
}
